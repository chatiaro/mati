{
  "nbformat": 4,
  "nbformat_minor": 0,
  "metadata": {
    "colab": {
      "name": "Mati.ipynb",
      "provenance": [],
      "collapsed_sections": [],
      "authorship_tag": "ABX9TyNf2nZk1XXFS2QHNrbBa80A",
      "include_colab_link": true
    },
    "kernelspec": {
      "name": "python3",
      "display_name": "Python 3"
    }
  },
  "cells": [
    {
      "cell_type": "markdown",
      "metadata": {
        "id": "view-in-github",
        "colab_type": "text"
      },
      "source": [
        "<a href=\"https://colab.research.google.com/github/chatiaro/mati/blob/master/Mati.ipynb\" target=\"_parent\"><img src=\"https://colab.research.google.com/assets/colab-badge.svg\" alt=\"Open In Colab\"/></a>"
      ]
    },
    {
      "cell_type": "code",
      "metadata": {
        "colab": {
          "base_uri": "https://localhost:8080/"
        },
        "id": "PgqQkMMVOSYk",
        "outputId": "9a1c0c3f-6cba-4e32-fc3c-bf82269265f8"
      },
      "source": [
        "!pip install wolframalpha"
      ],
      "execution_count": null,
      "outputs": [
        {
          "output_type": "stream",
          "text": [
            "Requirement already satisfied: wolframalpha in /usr/local/lib/python3.6/dist-packages (4.1.1)\n",
            "Requirement already satisfied: more-itertools in /usr/local/lib/python3.6/dist-packages (from wolframalpha) (8.6.0)\n",
            "Requirement already satisfied: xmltodict in /usr/local/lib/python3.6/dist-packages (from wolframalpha) (0.12.0)\n"
          ],
          "name": "stdout"
        }
      ]
    },
    {
      "cell_type": "code",
      "metadata": {
        "colab": {
          "base_uri": "https://localhost:8080/"
        },
        "id": "p6vQTMqkPnHA",
        "outputId": "e3975ae1-f176-4909-b197-9d84035efc49"
      },
      "source": [
        "#Inverse, Adjoint and determinant of matrix\r\n",
        "import wolframalpha \r\n",
        "matrix='{{1,2,3,-2},{0,2,3}}'\r\n",
        "print(\"Finding a inverse using adjoint method\")\r\n",
        "question = 'determinant of %s' % matrix\r\n",
        "print(question)\r\n",
        "app_id = '45YE27-G4J3LP8HXG' \r\n",
        "client = wolframalpha.Client(app_id) \r\n",
        "res = client.query(question) \r\n",
        "answer = next(res.results).text \r\n",
        "\r\n",
        "print(\"|A|=\", answer) \r\n",
        "if(answer==0): print(\"Since |A| = 0, inverse doesnt exist\")\r\n",
        "else:\r\n",
        "   print(\"Since |A| not equal to zero, inverse exists\")\r\n",
        "   print(\"A^-1=adj(A)/|A|\")\r\n",
        "   print(\"Minor of A = the determinant obtained by deleting ith row and jth column. \\nCofactor of Aij  = (-1)^i+j . Let Aij denote the cofactor of a. Then,\")\r\n",
        "   question = 'cofactor of %s' % matrix\r\n",
        "   res = client.query(question)\r\n",
        "   answer1 = next(res.results).text \r\n",
        "   print(answer1)\r\n",
        "   print(\"Therefore A inverse=\")\r\n",
        "   question = 'inverse %s * inverse %s'% (matrix,matrix)\r\n",
        "   res = client.query(question)\r\n",
        "   answer = next(res.results).text \r\n",
        "   print(answer)"
      ],
      "execution_count": null,
      "outputs": [
        {
          "output_type": "stream",
          "text": [
            "Finding a inverse using adjoint method\n",
            "determinant of {{2,4},{0,3}}\n",
            "|A|= 6\n",
            "Since |A| not equal to zero, inverse exists\n",
            "A^-1=adj(A)/|A|\n",
            "Minor of A = the determinant obtained by deleting ith row and jth column. \n",
            "Cofactor of Aij  = (-1)^i+j . Let Aij denote the cofactor of a. Then,\n",
            "(3 | 0\n",
            "-4 | 2)\n",
            "Therefore A inverse=\n",
            "1/36(9 | -20\n",
            "0 | 4)\n"
          ],
          "name": "stdout"
        }
      ]
    },
    {
      "cell_type": "code",
      "metadata": {
        "colab": {
          "base_uri": "https://localhost:8080/"
        },
        "id": "N9m4xQb7x20m",
        "outputId": "775cfd38-7e82-4ab0-ada8-6b871fdc5a41"
      },
      "source": [
        "#Rank of matrix\r\n",
        "matrix='{{1,2,3},{2,4,6},{3,6,9}}'\r\n",
        "print(\"Finding rank by minor form\")\r\n",
        "question = 'determinant of %s' % matrix\r\n",
        "\r\n",
        "app_id = '45YE27-G4J3LP8HXG' \r\n",
        "client = wolframalpha.Client(app_id) \r\n",
        "res = client.query(question) \r\n",
        "answer = next(res.results).text \r\n",
        "print(\"|A|= %s\"%answer)\r\n",
        "print(\"for a submatrix, \")\r\n",
        "question = 'rank of %s' % matrix\r\n",
        "res = client.query(question) \r\n",
        "answer = next(res.results).text \r\n",
        "print(\"of order %s\"%answer)\r\n",
        "print(\"|A| not equal to 0\")\r\n",
        "print(\"Therefore rank of matrix= %s\"% answer)\r\n"
      ],
      "execution_count": null,
      "outputs": [
        {
          "output_type": "stream",
          "text": [
            "Finding rank by minor form\n",
            "|A|= 0\n",
            "for a submatrix, \n",
            "of order 1\n",
            "|A| not equal to 0\n",
            "Therefore rank of matrix= 1\n"
          ],
          "name": "stdout"
        }
      ]
    },
    {
      "cell_type": "markdown",
      "metadata": {
        "id": "FVxOv26sYv7Z"
      },
      "source": [
        "Matrices and vector spaces:\r\n",
        "\r\n",
        "http://www.math.odu.edu/~bogacki/cgi-bin/lat.cgi\r\n",
        "\r\n",
        "Diagonalizing:\r\n",
        "\r\n",
        "https://www.emathhelp.net/calculators/linear-algebra/diagonalize-matrix-calculator/\r\n",
        "\r\n",
        "Eigen Values And Eigen Vectors\r\n",
        "\r\n",
        "https://www.emathhelp.net/calculators/linear-algebra/eigenvalue-and-eigenvector-calculator/?i=%5B%5B1%2C0%2C-1%5D%2C%5B1%2C2%2C1%5D%2C%5B2%2C2%2C3%5D%5D&steps=on\r\n",
        "\r\n",
        "Extension to use symbolab for free\r\n",
        "\r\n",
        "https://drive.google.com/drive/folders/1_h5dFQCrRHXUhYHQ5nUwMllh_Gsz5OAp?usp=sharing"
      ]
    },
    {
      "cell_type": "markdown",
      "metadata": {
        "id": "32mx98_PArl_"
      },
      "source": [
        ""
      ]
    }
  ]
}